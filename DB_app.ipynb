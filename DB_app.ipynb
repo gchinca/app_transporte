{
  "nbformat": 4,
  "nbformat_minor": 0,
  "metadata": {
    "colab": {
      "provenance": [],
      "authorship_tag": "ABX9TyPL4GRXDT4iz+PjW55N1Ug2",
      "include_colab_link": true
    },
    "kernelspec": {
      "name": "python3",
      "display_name": "Python 3"
    },
    "language_info": {
      "name": "python"
    }
  },
  "cells": [
    {
      "cell_type": "markdown",
      "metadata": {
        "id": "view-in-github",
        "colab_type": "text"
      },
      "source": [
        "<a href=\"https://colab.research.google.com/github/gchinca/app_transporte/blob/main/DB_app.ipynb\" target=\"_parent\"><img src=\"https://colab.research.google.com/assets/colab-badge.svg\" alt=\"Open In Colab\"/></a>"
      ]
    },
    {
      "cell_type": "code",
      "execution_count": null,
      "metadata": {
        "colab": {
          "base_uri": "https://localhost:8080/"
        },
        "id": "I0Cr3uOmywJP",
        "outputId": "4958f390-1b98-411e-fb5a-beb27367a242"
      },
      "outputs": [
        {
          "output_type": "stream",
          "name": "stdout",
          "text": [
            "Mounted at /content/drive\n"
          ]
        }
      ],
      "source": [
        "# Acceso a google drive\n",
        "from google.colab import drive\n",
        "drive.mount('/content/drive')"
      ]
    },
    {
      "cell_type": "code",
      "source": [
        "import sqlite3\n",
        "import csv"
      ],
      "metadata": {
        "id": "AJn52Q4rzriw"
      },
      "execution_count": null,
      "outputs": []
    },
    {
      "cell_type": "code",
      "source": [
        "# Crear la nueva base de datos en SQLite\n",
        "conn = sqlite3.connect('/content/drive/MyDrive/Colab Notebooks/PROYECTOS/ANALISIS PLATAFORMA DE TRANSPORTE/transporte.db')\n",
        "c = conn.cursor()"
      ],
      "metadata": {
        "id": "6ELkfCSfz41S"
      },
      "execution_count": null,
      "outputs": []
    },
    {
      "cell_type": "code",
      "source": [
        "# Borra la tabla si ya está creada\n",
        "c.execute('DROP TABLE IF EXISTS app')"
      ],
      "metadata": {
        "colab": {
          "base_uri": "https://localhost:8080/"
        },
        "id": "3xyAQy-W-55q",
        "outputId": "12cc8fd4-9259-4b41-b055-792c30e4ce40"
      },
      "execution_count": null,
      "outputs": [
        {
          "output_type": "execute_result",
          "data": {
            "text/plain": [
              "<sqlite3.Cursor at 0x7e9f94ea6a40>"
            ]
          },
          "metadata": {},
          "execution_count": 4
        }
      ]
    },
    {
      "cell_type": "code",
      "source": [
        "# Se crea una tabla llamada app\n",
        "c.execute('''CREATE TABLE app(\n",
        "    Name Text,\n",
        "    TripsCompleted Integer,\n",
        "    AcceptRate Integer,\n",
        "    SupplyHours Integer,\n",
        "    Rating Float);'''\n",
        ")\n",
        "\n",
        "\n"
      ],
      "metadata": {
        "colab": {
          "base_uri": "https://localhost:8080/"
        },
        "id": "Vv08Gy0j0Ht_",
        "outputId": "76cbf97e-7d5e-4028-81a2-3019e943ba0f"
      },
      "execution_count": null,
      "outputs": [
        {
          "output_type": "execute_result",
          "data": {
            "text/plain": [
              "<sqlite3.Cursor at 0x7e9f94ea6a40>"
            ]
          },
          "metadata": {},
          "execution_count": 5
        }
      ]
    },
    {
      "cell_type": "code",
      "source": [
        "# Leer el archivo csv para cargar los datos en la BD\n",
        "\n",
        "with open('/content/drive/MyDrive/Colab Notebooks/PROYECTOS/ANALISIS PLATAFORMA DE TRANSPORTE/dataset_2.csv', 'r') as f:\n",
        "  reader = csv.reader(f)\n",
        "  next(reader)\n",
        "  for row in reader:\n",
        "    c.execute(\"INSERT INTO app VALUES(?, ?, ?, ?, ?)\", (row[0], row[1], row[2], row[3], row[4]))"
      ],
      "metadata": {
        "id": "ASYq1FtI7uia"
      },
      "execution_count": null,
      "outputs": []
    },
    {
      "cell_type": "code",
      "source": [
        "# Obtener todas las filas de la tabla 'app'\n",
        "c.execute(\"SELECT * FROM app\")\n",
        "rows = c.fetchall()\n",
        "\n",
        "# Imprimir cada fila\n",
        "for row in rows:\n",
        "    print(row)"
      ],
      "metadata": {
        "colab": {
          "base_uri": "https://localhost:8080/"
        },
        "id": "R7xasQfaACp7",
        "outputId": "a7ffd70d-e74d-4501-f4b1-d5613cdf66df"
      },
      "execution_count": null,
      "outputs": [
        {
          "output_type": "stream",
          "name": "stdout",
          "text": [
            "('Abdul', 1, '100%', 3, 4.8)\n",
            "('Abraham', 12, '83%', 5, 4.7)\n",
            "('Adelina', 1, '100%', 2, 4.7)\n",
            "('Akilah', 1, '100%', 2, 4.9)\n",
            "('Alec', 21, '76%', 11, 5.0)\n",
            "('Alesha', 7, '100%', 4, 4.8)\n",
            "('Alvaro', 17, '88%', 11, 4.6)\n",
            "('Andra', 16, '94%', 11, 4.6)\n",
            "('Augusta', 19, '84%', 11, 4.7)\n",
            "('Aurora', 10, '90%', 4, 4.6)\n",
            "('Buffy', 13, '54%', 6, 5.0)\n",
            "('Byron', 15, '100%', 10, 4.9)\n",
            "('Carlota', 14, '100%', 8, 5.0)\n",
            "('Celesta', 8, '100%', 5, 4.7)\n",
            "('Celestina', 5, '100%', 5, 4.5)\n",
            "('Chu', 14, '71%', 7, 4.8)\n",
            "('Corine', 16, '63%', 11, 4.5)\n",
            "('Cris', 7, '71%', 5, 5.0)\n",
            "('Dalila', 7, '57%', 2, 4.8)\n",
            "('Dannette', 14, '100%', 9, 4.9)\n",
            "('Dannielle', 3, '67%', 5, 5.0)\n",
            "('Deane', 22, '77%', 9, 4.7)\n",
            "('Delfina', 4, '50%', 3, 4.7)\n",
            "('Demetrius', 14, '100%', 9, 5.0)\n",
            "('Deneen', 26, '19%', 7, 4.8)\n",
            "('Denny', 16, '56%', 9, 4.9)\n",
            "('Dimple', 15, '100%', 10, 4.9)\n",
            "('Domenica', 9, '89%', 5, 4.9)\n",
            "('Drusilla', 4, '100%', 5, 4.9)\n",
            "('Dustin', 13, '85%', 10, 4.9)\n",
            "('Ellis', 2, '100%', 1, 4.9)\n",
            "('Elton', 23, '52%', 8, 4.6)\n",
            "('Emil', 12, '100%', 9, 5.0)\n",
            "('Eusebia', 3, '100%', 2, 4.7)\n",
            "('Fernande', 14, '86%', 10, 4.9)\n",
            "('Flor', 14, '36%', 6, 4.55)\n",
            "('Floyd', 3, '67%', 1, 4.8)\n",
            "('Garth', 15, '100%', 10, 5.0)\n",
            "('Georgeann', 12, '100%', 8, 4.3)\n",
            "('Gretta', 16, '69%', 7, 4.5)\n",
            "('Hanh', 14, '94%', 9, 4.9)\n",
            "('Hee', 9, '89%', 7, 4.7)\n",
            "('Heidy', 16, '38%', 7, 4.9)\n",
            "('Helen', 2, '100%', 1, 4.3)\n",
            "('Hipolito', 14, '100%', 10, 4.5)\n",
            "('Ingrid', 7, '43%', 4, 4.8)\n",
            "('Irvin', 4, '100%', 3, 4.3)\n",
            "('Jackson', 10, '50%', 7, 4.7)\n",
            "('Jarrett', 11, '100%', 7, 4.9)\n",
            "('Jerica', 14, '93%', 5, 4.5)\n",
            "('Kathryne', 6, '100%', 4, 4.9)\n",
            "('Keeley', 7, '100%', 4, 4.5)\n",
            "('Kelley', 7, '100%', 4, 4.5)\n",
            "('Keshia', 20, '100%', 11, 4.8)\n",
            "('Kimberlee', 6, '100%', 7, 4.9)\n",
            "('Kyra', 14, '71%', 8, 4.6)\n",
            "('Lamonica', 24, '88%', 11, 5.0)\n",
            "('Latonia', 13, '100%', 9, 5.0)\n",
            "('Lavera', 13, '69%', 6, 4.9)\n",
            "('Leisha', 14, '93%', 9, 4.6)\n",
            "('Leland', 12, '100%', 7, 4.5)\n",
            "('Lemuel', 20, '95%', 11, 4.3)\n",
            "('Leota', 12, '58%', 6, 4.8)\n",
            "('Liane', 14, '93%', 6, 4.5)\n",
            "('Lianne', 22, '82%', 9, 4.8)\n",
            "('Lieselotte', 11, '100%', 7, 4.9)\n",
            "('Lilla', 9, '89%', 8, 4.7)\n",
            "('Loree', 9, '89%', 8, 4.7)\n",
            "('Luanne', 12, '96%', 11, 4.9)\n",
            "('Lyndsey', 13, '94%', 11, 4.9)\n",
            "('Lynwood', 21, '95%', 10, 5.0)\n",
            "('Mac', 7, '100%', 5, 4.6)\n",
            "('Mackenzie', 9, '89%', 8, 4.6)\n",
            "('Magaret', 1, '100%', 3, 5.0)\n",
            "('Malka', 11, '55%', 4, 4.5)\n",
            "('Man', 23, '100%', 10, 5.0)\n",
            "('Marica', 16, '90%', 10, 5.0)\n",
            "('Marketta', 10, '100%', 5, 4.7)\n",
            "('Marshall', 5, '80%', 4, 4.38)\n",
            "('Mathilda', 14, '86%', 9, 4.9)\n",
            "('Mechelle', 12, '75%', 10, 4.8)\n",
            "('Melina', 10, '100%', 6, 3.2)\n",
            "('Melodee', 1, '100%', 2, 4.9)\n",
            "('Michelle', 31, '23%', 7, 4.3)\n",
            "('Natalie', 16, '94%', 8, 4.9)\n",
            "('Nelson', 16, '94%', 10, 4.5)\n",
            "('Nikki', 20, '50%', 9, 4.8)\n",
            "('Nyla', 18, '89%', 11, 5.0)\n",
            "('Oren', 11, '91%', 9, 4.8)\n",
            "('Pandora', 15, '60%', 10, 4.9)\n",
            "('Penni', 8, '100%', 6, 4.5)\n",
            "('Pennie', 15, '87%', 11, 4.8)\n",
            "('Phyllis', 10, '90%', 8, 4.8)\n",
            "('Pinkie', 6, '100%', 5, 4.7)\n",
            "('Roland', 11, '100%', 6, 4.7)\n",
            "('Salvador', 15, '100%', 11, 4.8)\n",
            "('Samella', 18, '44%', 11, 5.0)\n",
            "('Sanda', 8, '88%', 8, 4.7)\n",
            "('Shandra', 14, '100%', 8, 4.9)\n",
            "('Shawana', 10, '100%', 6, 4.7)\n",
            "('Shelly', 11, '100%', 7, 4.6)\n",
            "('Shonda', 18, '100%', 6, 4.5)\n",
            "('Son', 21, '67%', 11, 5.0)\n",
            "('Stefanie', 11, '100%', 5, 4.7)\n",
            "('Stephania', 15, '80%', 9, 5.0)\n",
            "('Tanya', 12, '100%', 8, 4.5)\n",
            "('Tawana', 7, '86%', 5, 3.0)\n",
            "('Tenisha', 8, '88%', 6, 5.0)\n",
            "('Teressa', 17, '77%', 11, 4.7)\n",
            "('Tesha', 7, '100%', 6, 1.6)\n",
            "('Tonya', 13, '54%', 7, 4.8)\n",
            "('Ulrike', 11, '91%', 6, 4.5)\n",
            "('Valencia', 10, '80%', 4, 4.9)\n",
            "('Vashti', 12, '92%', 11, 4.9)\n",
            "('Virgen', 4, '100%', 6, 4.5)\n",
            "('Yang', 7, '71%', 2, 4.5)\n",
            "('Yessenia', 8, '88%', 5, 5.0)\n",
            "('Yukiko', 9, '78%', 6, 4.5)\n",
            "('Zoe', 21, '86%', 9, 4.9)\n"
          ]
        }
      ]
    },
    {
      "cell_type": "code",
      "source": [
        "# Guardar cambio y cerrar la conexión con la BD\n",
        "conn.commit()\n",
        "conn.close()"
      ],
      "metadata": {
        "id": "CFtesqxb8lDk"
      },
      "execution_count": null,
      "outputs": []
    }
  ]
}